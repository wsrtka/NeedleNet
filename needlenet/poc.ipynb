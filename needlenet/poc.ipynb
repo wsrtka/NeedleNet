{
 "cells": [
  {
   "cell_type": "code",
   "execution_count": null,
   "metadata": {},
   "outputs": [],
   "source": [
    "from collections import Counter\n",
    "\n",
    "import torch\n",
    "import matplotlib.pyplot as plt\n",
    "\n",
    "from torch import nn\n",
    "from torchvision.datasets import DatasetFolder\n",
    "from torchaudio import load, pipelines, transforms\n",
    "from torch.utils.data import random_split"
   ]
  },
  {
   "cell_type": "code",
   "execution_count": null,
   "metadata": {},
   "outputs": [],
   "source": [
    "def loader(filepath):\n",
    "    data = load(filepath)[0]\n",
    "    data = torch.squeeze(data)\n",
    "    return data"
   ]
  },
  {
   "cell_type": "code",
   "execution_count": null,
   "metadata": {},
   "outputs": [],
   "source": [
    "# set manual seed for reproducibility\n",
    "torch.manual_seed(0)\n",
    "# load data and check\n",
    "df = DatasetFolder(\n",
    "    \"../data\",\n",
    "    loader=loader,\n",
    "    extensions=(\"wav\"),\n",
    "    transform=transforms.Resample(44500, 16000),\n",
    ")\n",
    "print(dict(Counter(df.targets)))\n",
    "print(len(df))\n",
    "# split data into train and test\n",
    "train, test = random_split(df, (0.8, 0.2))\n",
    "print(len(train), len(test))"
   ]
  },
  {
   "cell_type": "code",
   "execution_count": null,
   "metadata": {},
   "outputs": [],
   "source": [
    "# creatae pipeline\n",
    "# bundle = pipelines.WAV2VEC2_BASE\n",
    "# bundle = pipelines.HUBERT_BASE\n",
    "bundle = pipelines.WAV2VEC2_ASR_BASE_10M\n",
    "# WAV2VEC2_ASR_BASE_10M\n",
    "bundle.sample_rate"
   ]
  },
  {
   "cell_type": "code",
   "execution_count": null,
   "metadata": {},
   "outputs": [],
   "source": [
    "df[0][0]"
   ]
  },
  {
   "cell_type": "code",
   "execution_count": null,
   "metadata": {},
   "outputs": [],
   "source": [
    "max_len = 0\n",
    "min_len = 80000\n",
    "lens = []\n",
    "for x, label in df:\n",
    "    if len(x) > max_len:\n",
    "        max_len = len(x)\n",
    "    if len(x) < min_len:\n",
    "        min_len = len(x)\n",
    "    lens.append(len(x))\n",
    "print(max_len, min_len)"
   ]
  },
  {
   "cell_type": "code",
   "execution_count": null,
   "metadata": {},
   "outputs": [],
   "source": [
    "plt.hist(lens, bins=100)"
   ]
  },
  {
   "cell_type": "code",
   "execution_count": null,
   "metadata": {},
   "outputs": [],
   "source": [
    "model = bundle.get_model()\n",
    "# with torch.inference_mode():\n",
    "#     features, _ = model.extract_features(df[0][0])\n",
    "print(model)"
   ]
  },
  {
   "cell_type": "code",
   "execution_count": null,
   "metadata": {},
   "outputs": [],
   "source": [
    "fig, ax = plt.subplots(len(features), 1, figsize=(16, 4.3 * len(features)))\n",
    "for i, feats in enumerate(features):\n",
    "    ax[i].imshow(feats[0].cpu(), interpolation=\"nearest\")\n",
    "    ax[i].set_title(f\"Feature from transformer layer {i+1}\")\n",
    "    ax[i].set_xlabel(\"Feature dimension\")\n",
    "    ax[i].set_ylabel(\"Frame (time-axis)\")\n",
    "plt.tight_layout()\n",
    "plt.show()"
   ]
  },
  {
   "cell_type": "code",
   "execution_count": null,
   "metadata": {},
   "outputs": [],
   "source": [
    "class NeedleNet(nn.Module):\n",
    "    def __init__(self, bundle, num_labels=5):\n",
    "        super(NeedleNet, self).__init__()\n",
    "        self.num_labels = num_labels\n",
    "\n",
    "        self.model = bundle.get_model()\n",
    "        self.dropout = nn.Dropout(0.1)\n",
    "        self.classifier = nn.Linear(768, num_labels)\n",
    "\n",
    "    def forward(self, x):\n",
    "        outputs = self.model(x)\n",
    "        # outputs = torch.sum(outputs, axis=1)\n",
    "        outputs = self.dropout(outputs)\n",
    "        outputs = self.classifier(outputs)\n",
    "        return outputs\n",
    "\n",
    "\n",
    "class Average(nn.Module):\n",
    "    def __init__(self, axis):\n",
    "        super().__init__()\n",
    "        self.axis = axis\n",
    "\n",
    "    def forward(self, x):\n",
    "        output = x.mean(dim=self.axis)\n",
    "        output = torch.squeeze(output, -2)\n",
    "        return output"
   ]
  },
  {
   "cell_type": "code",
   "execution_count": null,
   "metadata": {},
   "outputs": [],
   "source": [
    "model = bundle.get_model()"
   ]
  },
  {
   "cell_type": "code",
   "execution_count": null,
   "metadata": {},
   "outputs": [],
   "source": [
    "df[0][0]"
   ]
  },
  {
   "cell_type": "code",
   "execution_count": null,
   "metadata": {},
   "outputs": [],
   "source": [
    "model.aux = nn.Sequential(Average(axis=-2), nn.Linear(768, 5))\n",
    "model.train()\n",
    "with torch.inference_mode():\n",
    "    emission, _ = model(torch.unsqueeze(df[0][0], 0))\n",
    "emission"
   ]
  },
  {
   "cell_type": "code",
   "execution_count": null,
   "metadata": {},
   "outputs": [],
   "source": [
    "m = nn.AdaptiveAvgPool1d(1)\n",
    "m(emission.transpose(-2, -1)).shape, m(emission).shape"
   ]
  },
  {
   "cell_type": "code",
   "execution_count": null,
   "metadata": {},
   "outputs": [],
   "source": [
    "# plt.imshow(emission[0].cpu().T, interpolation=\"nearest\")\n",
    "plt.imshow(emission[0].cpu().T, interpolation=\"nearest\")\n",
    "plt.title(\"Classification result\")\n",
    "plt.xlabel(\"Frame (time-axis)\")\n",
    "plt.ylabel(\"Class\")\n",
    "plt.show()\n",
    "print(\"Class labels:\", bundle.get_labels())"
   ]
  },
  {
   "cell_type": "code",
   "execution_count": null,
   "metadata": {},
   "outputs": [],
   "source": [
    "model"
   ]
  },
  {
   "cell_type": "code",
   "execution_count": null,
   "metadata": {},
   "outputs": [],
   "source": []
  }
 ],
 "metadata": {
  "kernelspec": {
   "display_name": "Python 3.10.8 ('torch3.10')",
   "language": "python",
   "name": "python3"
  },
  "language_info": {
   "codemirror_mode": {
    "name": "ipython",
    "version": 3
   },
   "file_extension": ".py",
   "mimetype": "text/x-python",
   "name": "python",
   "nbconvert_exporter": "python",
   "pygments_lexer": "ipython3",
   "version": "3.10.8"
  },
  "orig_nbformat": 4,
  "vscode": {
   "interpreter": {
    "hash": "6bf980390fc6e3c4c1287655eff22c408b78d08c8c98dcda53cb95265c2e951a"
   }
  }
 },
 "nbformat": 4,
 "nbformat_minor": 2
}
