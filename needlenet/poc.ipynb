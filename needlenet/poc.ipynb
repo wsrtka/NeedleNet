{
 "cells": [
  {
   "cell_type": "code",
   "execution_count": 8,
   "metadata": {},
   "outputs": [],
   "source": [
    "\"\"\"Notebook used as a POC for the project.\"\"\"\n",
    "# pylint: disable=import-error\n",
    "\n",
    "import os\n",
    "\n",
    "import pandas as pd\n",
    "import librosa as lr\n",
    "import matplotlib.pyplot as plt\n",
    "\n",
    "from scipy.io.wavfile import write"
   ]
  },
  {
   "cell_type": "code",
   "execution_count": 2,
   "metadata": {},
   "outputs": [],
   "source": [
    "DATASET_DIR = \"../data\"\n",
    "\n",
    "file_infos = []\n",
    "\n",
    "files = [\n",
    "    os.path.join(dp, f)\n",
    "    for dp, dn, filenames in os.walk(DATASET_DIR)\n",
    "    for f in filenames\n",
    "    if os.path.splitext(f)[1] == \".WAV\"\n",
    "]\n",
    "\n",
    "for file in files:\n",
    "    file_info = {}\n",
    "    file_info[\"class\"] = file.split(\"/\")[-2]\n",
    "    audio, sr = lr.load(file)\n",
    "    file_info[\"sample_rate\"] = sr\n",
    "    file_info[\"length\"] = lr.get_duration(y=audio, sr=sr)\n",
    "    file_info[\"name\"] = file\n",
    "    file_infos.append(file_info)\n",
    "\n",
    "file_infos = pd.DataFrame(file_infos)"
   ]
  },
  {
   "cell_type": "code",
   "execution_count": 3,
   "metadata": {},
   "outputs": [
    {
     "data": {
      "text/html": [
       "<div>\n",
       "<style scoped>\n",
       "    .dataframe tbody tr th:only-of-type {\n",
       "        vertical-align: middle;\n",
       "    }\n",
       "\n",
       "    .dataframe tbody tr th {\n",
       "        vertical-align: top;\n",
       "    }\n",
       "\n",
       "    .dataframe thead th {\n",
       "        text-align: right;\n",
       "    }\n",
       "</style>\n",
       "<table border=\"1\" class=\"dataframe\">\n",
       "  <thead>\n",
       "    <tr style=\"text-align: right;\">\n",
       "      <th></th>\n",
       "      <th>sample_rate</th>\n",
       "      <th>length</th>\n",
       "    </tr>\n",
       "  </thead>\n",
       "  <tbody>\n",
       "    <tr>\n",
       "      <th>count</th>\n",
       "      <td>419.0</td>\n",
       "      <td>419.000000</td>\n",
       "    </tr>\n",
       "    <tr>\n",
       "      <th>mean</th>\n",
       "      <td>22050.0</td>\n",
       "      <td>4.552862</td>\n",
       "    </tr>\n",
       "    <tr>\n",
       "      <th>std</th>\n",
       "      <td>0.0</td>\n",
       "      <td>2.486746</td>\n",
       "    </tr>\n",
       "    <tr>\n",
       "      <th>min</th>\n",
       "      <td>22050.0</td>\n",
       "      <td>0.966485</td>\n",
       "    </tr>\n",
       "    <tr>\n",
       "      <th>25%</th>\n",
       "      <td>22050.0</td>\n",
       "      <td>3.129569</td>\n",
       "    </tr>\n",
       "    <tr>\n",
       "      <th>50%</th>\n",
       "      <td>22050.0</td>\n",
       "      <td>4.096009</td>\n",
       "    </tr>\n",
       "    <tr>\n",
       "      <th>75%</th>\n",
       "      <td>22050.0</td>\n",
       "      <td>5.108526</td>\n",
       "    </tr>\n",
       "    <tr>\n",
       "      <th>max</th>\n",
       "      <td>22050.0</td>\n",
       "      <td>24.990204</td>\n",
       "    </tr>\n",
       "  </tbody>\n",
       "</table>\n",
       "</div>"
      ],
      "text/plain": [
       "       sample_rate      length\n",
       "count        419.0  419.000000\n",
       "mean       22050.0    4.552862\n",
       "std            0.0    2.486746\n",
       "min        22050.0    0.966485\n",
       "25%        22050.0    3.129569\n",
       "50%        22050.0    4.096009\n",
       "75%        22050.0    5.108526\n",
       "max        22050.0   24.990204"
      ]
     },
     "execution_count": 3,
     "metadata": {},
     "output_type": "execute_result"
    }
   ],
   "source": [
    "file_infos.describe()"
   ]
  },
  {
   "cell_type": "code",
   "execution_count": 4,
   "metadata": {},
   "outputs": [
    {
     "data": {
      "image/png": "[encoded data removed]",
      "text/plain": [
       "<Figure size 640x480 with 1 Axes>"
      ]
     },
     "metadata": {},
     "output_type": "display_data"
    }
   ],
   "source": [
    "file_infos[\"length\"].hist(bins=100, grid=False)\n",
    "plt.title(\"Audio count by duration\")\n",
    "plt.xlabel(\"Audio duration [s]\")\n",
    "plt.ylabel(\"Number of samples\")\n",
    "plt.show()"
   ]
  },
  {
   "cell_type": "code",
   "execution_count": 24,
   "metadata": {},
   "outputs": [],
   "source": [
    "# pylint: disable=invalid-name\n",
    "audio_file_number = 1\n",
    "for file in files:\n",
    "    # load audio data\n",
    "    audio, sr = lr.load(file)\n",
    "    # calculate audio length\n",
    "    audio_duration = len(audio) / sr\n",
    "    # create name for segment\n",
    "    segment_name = file.split(\"/\")\n",
    "    segment_name[1] = \"new_data\"\n",
    "    # make sure segment is of proper length\n",
    "    if 1 <= audio_duration <= 8:\n",
    "        # calculate how many segments can be in the audio sample and the offset\n",
    "        segments_num = len(audio) // sr\n",
    "        offset = len(audio) - (segments_num * sr)\n",
    "        start = offset // 2\n",
    "        # create segments\n",
    "        for seg_num in range(segments_num):\n",
    "            # calculate segment start and end\n",
    "            segment_start = start + seg_num * sr\n",
    "            segment_end = start + (seg_num + 1) * sr\n",
    "            # cut audio\n",
    "            segment = audio[segment_start:segment_end]\n",
    "            # save audio\n",
    "            segment_name[-1] = f\"audio{audio_file_number}.wav\"\n",
    "            os.makedirs(\"/\".join(segment_name[:-1]), exist_ok=True)\n",
    "            write(\"/\".join(segment_name), sr, segment)\n",
    "            audio_file_number += 1"
   ]
  },
  {
   "cell_type": "code",
   "execution_count": null,
   "metadata": {},
   "outputs": [],
   "source": []
  }
 ],
 "metadata": {
  "kernelspec": {
   "display_name": "Python 3.8.16 ('audio')",
   "language": "python",
   "name": "python3"
  },
  "language_info": {
   "codemirror_mode": {
    "name": "ipython",
    "version": 3
   },
   "file_extension": ".py",
   "mimetype": "text/x-python",
   "name": "python",
   "nbconvert_exporter": "python",
   "pygments_lexer": "ipython3",
   "version": "3.8.16"
  },
  "orig_nbformat": 4,
  "vscode": {
   "interpreter": {
    "hash": "49127357995579b740a4461afcf035f8ffd19dbdb30a9bc0fe01bd0c9a6ab68b"
   }
  }
 },
 "nbformat": 4,
 "nbformat_minor": 2
}
